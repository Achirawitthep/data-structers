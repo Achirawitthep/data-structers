{
 "cells": [
  {
   "cell_type": "code",
   "execution_count": null,
   "id": "18fb8837",
   "metadata": {},
   "outputs": [],
   "source": [
    "student = []\n",
    "loop = True\n",
    "i = 0\n",
    "while loop :\n",
    "\n",
    "    input1 = input(\"std_id: \")\n",
    "    input2 = input(\"fname: \")\n",
    "    input3 = input(\"lname: \")\n",
    "    input4 = input(\"phone: \")\n",
    "    input5 = input(\"gender: \")\n",
    "    input6 = input(\"major: \")\n",
    "    data = {\n",
    "    \"sid_id\" :input1,\n",
    "    \"fname\"  :input2,\n",
    "    \"lname\"  :input3,\n",
    "    \"phone\"  :input4,\n",
    "    \"gender\" :input5,\n",
    "    \"major\"  :input6,\n",
    "    }\n",
    "    print(student)\n",
    "    student.append(data)\n",
    "\n",
    "    print(\"-------main menu-------\")\n",
    "    print(\"พิมพ์ a รับข้อมูลไหม่,พิมพ์ q เพื่อออกจากโปรแกรม,พิมพ์ p เพื่อแสดงข้อมูลทั้งหมด\")\n",
    "    inp_caeck = input(\"พิมพ์ a ,พิมพ์ q, พิมพ์ p \")\n",
    "\n",
    "    if(inp_caeck == \"a\"):\n",
    "        loop = True\n",
    "    elif(inp_caeck == \"q\"):\n",
    "        loop = False\n",
    "    elif inp_caeck == \"p\":\n",
    "        start = int(input(\"ข้อมูลที่ : \"))\n",
    "        stop = int(input(\"ข้อมูลที่: \"))\n",
    "        \n",
    "        for i in range(j):\n",
    "            print(student[i])\n"
   ]
  }
 ],
 "metadata": {
  "language_info": {
   "name": "python"
  }
 },
 "nbformat": 4,
 "nbformat_minor": 5
}
