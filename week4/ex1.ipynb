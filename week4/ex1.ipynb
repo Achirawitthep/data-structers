{
 "cells": [
  {
   "cell_type": "code",
   "execution_count": 6,
   "id": "19e0a45a",
   "metadata": {},
   "outputs": [
    {
     "name": "stdout",
     "output_type": "stream",
     "text": [
      "หรัสนักศึกษา: 123456\n",
      "ชื่อ: หน่อย นามสกุล เทพบุรี\n"
     ]
    }
   ],
   "source": [
    "a = {\n",
    "    \"sid_id\" : \"123456\",\n",
    "    \"fname\": \"อชิรวิชญ์\",\n",
    "    \"lname\" : \"เทพบุรี\",\n",
    "    \"phone\" : \"0984746802\",\n",
    "    \"gender\" : \"men\",\n",
    "    \"major\" : \"computer science\",\n",
    "    }\n",
    "\n",
    "b = {\n",
    "    \"sid\":\"123457\",\n",
    "    \"fname\":\"หน่อย\",\n",
    "    \"lname\":\"นะนะ\",\n",
    "    \"phone\":\"0984742222\",\n",
    "    \"gender\":\"women\",\n",
    "    \"major\":\"computer science\",\n",
    "}\n",
    "print(\"หรัสนักศึกษา:\", a[\"sid_id\"])\n",
    "print(\"ชื่อ:\", b[\"fname\"], \"นามสกุล\", a[\"lname\"])\n"
   ]
  },
  {
   "cell_type": "code",
   "execution_count": 10,
   "id": "3fb7f25c",
   "metadata": {},
   "outputs": [
    {
     "name": "stdout",
     "output_type": "stream",
     "text": [
      "รหัสนักศึกษา: 67\n",
      "ชื่อ: Achi นามสกุล tep\n",
      "เบอร์: 098 เพศ: men\n",
      "สาขา: cs\n"
     ]
    }
   ],
   "source": [
    "input1 = input(\"std_id: \")\n",
    "input2 = input(\"fname: \")\n",
    "input3 = input(\"lname: \")\n",
    "input4 = input(\"phone: \")\n",
    "input5 = input(\"gender: \")\n",
    "input6 = input(\"major: \")\n",
    "\n",
    "\n",
    "a = [{\n",
    "    \"sid_id\" :input1,\n",
    "    \"fname\"  :input2,\n",
    "    \"lname\"  :input3,\n",
    "    \"phone\"  :input4,\n",
    "    \"gender\" :input5,\n",
    "    \"major\"  :input6,\n",
    "    }]\n",
    "\n",
    "\n",
    "print(\"รหัสนักศึกษา:\", a[0][\"sid_id\"])\n",
    "print(\"ชื่อ:\", a[0][\"fname\"], \"นามสกุล\", a[0][\"lname\"])\n",
    "print(\"เบอร์:\", a[0][\"phone\"], \"เพศ:\", a[0][\"gender\"])\n",
    "print(\"สาขา:\", a[0][\"major\"])"
   ]
  },
  {
   "cell_type": "code",
   "execution_count": null,
   "id": "e271d2ae",
   "metadata": {},
   "outputs": [
    {
     "name": "stdout",
     "output_type": "stream",
     "text": [
      "[]\n",
      "-------main menu-------\n",
      "พิมพ์ a รับข้อมูลไหม่,พิมพ์ q เพื่อออกจากโปรแกรม,พิมพ์ p เพื่อแสดงข้อมูลทั้งหมด\n",
      "[{'sid_id': '1', 'fname': '2', 'lname': '3', 'phone': '4', 'gender': '5', 'major': '6'}]\n",
      "-------main menu-------\n",
      "พิมพ์ a รับข้อมูลไหม่,พิมพ์ q เพื่อออกจากโปรแกรม,พิมพ์ p เพื่อแสดงข้อมูลทั้งหมด\n",
      "{'sid_id': '1', 'fname': '2', 'lname': '3', 'phone': '4', 'gender': '5', 'major': '6'}\n",
      "{'sid_id': '2', 'fname': '3', 'lname': '4', 'phone': '5', 'gender': '6', 'major': 'p'}\n"
     ]
    }
   ],
   "source": [
    "student = []\n",
    "loop = True\n",
    "i = 0\n",
    "while loop :\n",
    "\n",
    "    input1 = input(\"std_id: \")\n",
    "    input2 = input(\"fname: \")\n",
    "    input3 = input(\"lname: \")\n",
    "    input4 = input(\"phone: \")\n",
    "    input5 = input(\"gender: \")\n",
    "    input6 = input(\"major: \")\n",
    "    data = {\n",
    "    \"sid_id\" :input1,\n",
    "    \"fname\"  :input2,\n",
    "    \"lname\"  :input3,\n",
    "    \"phone\"  :input4,\n",
    "    \"gender\" :input5,\n",
    "    \"major\"  :input6,\n",
    "    }\n",
    "    print(student)\n",
    "    student.append(data)\n",
    "\n",
    "    print(\"-------main menu-------\")\n",
    "    print(\"พิมพ์ a รับข้อมูลไหม่,พิมพ์ q เพื่อออกจากโปรแกรม,พิมพ์ p เพื่อแสดงข้อมูลทั้งหมด\")\n",
    "    inp_caeck = input(\"พิมพ์ a ,พิมพ์ q, พิมพ์ p \")\n",
    "\n",
    "    if(inp_caeck == \"a\"):\n",
    "        loop = True\n",
    "    elif(inp_caeck == \"q\"):\n",
    "        loop = False\n",
    "    elif inp_caeck == \"p\":\n",
    "        start = int(input(\"ข้อมูลที่ : \"))\n",
    "        stop = int(input(\"ข้อมูลที่: \"))\n",
    "        \n",
    "        for i in range(j):\n",
    "            print(student[i])\n"
   ]
  },
  {
   "cell_type": "code",
   "execution_count": null,
   "id": "e09bbe2c",
   "metadata": {
    "vscode": {
     "languageId": "ini"
    }
   },
   "outputs": [],
   "source": [
    "students = []\n",
    "while True:\n",
    "    print(\"-------main menu-------\")\n",
    "    cmd = input(\"พิมพ์ a เพื่อรับข้อมูลใหม่, q เพื่อออก, p เพื่อแสดงข้อมูล: \")\n",
    "    if cmd == \"a\":\n",
    "        sid_id = input(\"std_id: \")\n",
    "        fname = input(\"fname: \")\n",
    "        lname = input(\"lname: \")\n",
    "        phone = input(\"phone: \")\n",
    "        gender = input(\"gender: \")\n",
    "        major = input(\"major: \")\n",
    "        student_data = {\n",
    "            \"sid_id\": sid_id,\n",
    "            \"fname\": fname,\n",
    "            \"lname\": lname,\n",
    "            \"phone\": phone,\n",
    "            \"gender\": gender,\n",
    "            \"major\": major\n",
    "        }\n",
    "        students.append(student_data)\n",
    "    elif cmd == \"q\":\n",
    "        break\n",
    "    elif cmd == \"p\":\n",
    "        start = int(input(\"ข้อมูลที่เริ่มต้น (index เริ่มที่ 0): \"))\n",
    "        stop = int(input(\"ข้อมูลที่สิ้นสุด (index): \"))\n",
    "        for s in students[start:stop]:\n",
    "            print(s)\n",
    "    else:\n",
    "        print(\"กรุณาเลือก a, q หรือ p\")"
   ]
  },
  {
   "cell_type": "code",
   "execution_count": 31,
   "id": "5acd9ead",
   "metadata": {},
   "outputs": [
    {
     "name": "stdout",
     "output_type": "stream",
     "text": [
      "จำนวนข้อมูล 6\n",
      "{'sid_id': '1', 'fname': '2', 'lname': '3', 'phone': '4', 'gender': '5', 'major': '6'}\n",
      "{'sid_id': '11', 'fname': '22', 'lname': '33', 'phone': '44', 'gender': '55', 'major': '66'}\n"
     ]
    }
   ],
   "source": [
    "print(\"จำนวนข้อมูล\",len(student[1]))\n",
    "\n",
    "i = 0\n",
    "j = len(student)\n",
    "for i in range(j):\n",
    "    print(student[i])"
   ]
  }
 ],
 "metadata": {
  "kernelspec": {
   "display_name": "base",
   "language": "python",
   "name": "python3"
  },
  "language_info": {
   "codemirror_mode": {
    "name": "ipython",
    "version": 3
   },
   "file_extension": ".py",
   "mimetype": "text/x-python",
   "name": "python",
   "nbconvert_exporter": "python",
   "pygments_lexer": "ipython3",
   "version": "3.11.4"
  }
 },
 "nbformat": 4,
 "nbformat_minor": 5
}
