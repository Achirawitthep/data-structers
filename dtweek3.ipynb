{
 "cells": [
  {
   "cell_type": "code",
   "execution_count": 8,
   "id": "6acafc72",
   "metadata": {},
   "outputs": [
    {
     "name": "stdout",
     "output_type": "stream",
     "text": [
      "4\n"
     ]
    }
   ],
   "source": [
    "text = \"โบ้ทน้ำพริกปลาทู\"\n",
    "position = text.find(\"น้ำ\")\n",
    "print(position)"
   ]
  },
  {
   "cell_type": "code",
   "execution_count": 6,
   "id": "b8533fe3",
   "metadata": {},
   "outputs": [
    {
     "name": "stdout",
     "output_type": "stream",
     "text": [
      "['ฉันชอบกินไก่kfcซึ่งมีหลายเมนูเช่นไก่ทอดไก่ย่างและไก่กรอบ']\n"
     ]
    }
   ],
   "source": [
    "text = \"ฉันชอบกินไก่kfcซึ่งมีหลายเมนูเช่นไก่ทอดไก่ย่างและไก่กรอบ\"\n",
    "words = text.split()\n",
    "print(words)"
   ]
  },
  {
   "cell_type": "code",
   "execution_count": 10,
   "id": "dc557f8d",
   "metadata": {},
   "outputs": [
    {
     "name": "stdout",
     "output_type": "stream",
     "text": [
      "['ฉันชอบกินไก่ kfc ซึ่งมีหลายเมนู เช่น ไก่ทอด', ' ไก่ย่าง และไก่กรอบ']\n"
     ]
    }
   ],
   "source": [
    "text = \"ฉันชอบกินไก่ kfc ซึ่งมีหลายเมนู เช่น ไก่ทอด; ไก่ย่าง และไก่กรอบ\"\n",
    "words = text.split(\";\")\n",
    "print(words)"
   ]
  },
  {
   "cell_type": "code",
   "execution_count": 17,
   "id": "32bf5bbd",
   "metadata": {},
   "outputs": [
    {
     "name": "stdout",
     "output_type": "stream",
     "text": [
      "ฉันชอบกินไก่ kfc ซึ่งมีหลายเมนู เช่น fried chicken ไก่ย่าง และไก่กรอบ\n"
     ]
    }
   ],
   "source": [
    "text = \"ฉันชอบกินไก่ kfc ซึ่งมีหลายเมนู เช่น ไก่ทอด ไก่ย่าง และไก่กรอบ\"\n",
    "new_text = text.replace(\"ไก่ทอด\", \"fried chicken\")\n",
    "print(new_text)"
   ]
  },
  {
   "cell_type": "code",
   "execution_count": 21,
   "id": "e928eac4",
   "metadata": {},
   "outputs": [
    {
     "name": "stdout",
     "output_type": "stream",
     "text": [
      "17\n",
      "4\n",
      "<class 'str'>\n",
      "<class 'list'>\n"
     ]
    }
   ],
   "source": [
    "text = \"แมว หมา สุนัข ปลา\"\n",
    "print(len(text))\n",
    "\n",
    "words1 = [\"แมว\", \"หมา\", \"สุนัข\", \"ปลา\"]\n",
    "words2 = {\"แมว\", \"หมา\", \"สุนัข\", \"ปลา\"}\n",
    "words3 = {\"แมว\": 1, \"หมา\": 2, \"สุนัข\": 3, \"ปลา\": 4}\n",
    "print(len(words3))\n",
    "\n",
    "print(type(text))\n",
    "print(type(words))"
   ]
  },
  {
   "cell_type": "code",
   "execution_count": null,
   "id": "319a18fc",
   "metadata": {},
   "outputs": [],
   "source": [
    "text = \"You Never Work Alone\"\n",
    "print(text.lower())"
   ]
  },
  {
   "cell_type": "code",
   "execution_count": null,
   "id": "95268282",
   "metadata": {},
   "outputs": [],
   "source": [
    "text = \"You Never Work Alone\"\n",
    "print(text.upper())"
   ]
  },
  {
   "cell_type": "code",
   "execution_count": 24,
   "id": "47636f46",
   "metadata": {},
   "outputs": [
    {
     "name": "stdout",
     "output_type": "stream",
     "text": [
      "ใหม่ =>  70\n",
      "ใหม่ =>  68\n"
     ]
    }
   ],
   "source": [
    "text = \"  >>>>>>  วันนี้วันดี ที่เราได้มาพบกัน วันนี้วันจันทร์ มีตลาดมีดนะ !!!\"\n",
    "new_text = text.strip()\n",
    "print(\"ใหม่ => \", len(text))\n",
    "print(\"ใหม่ => \", len(new_text))"
   ]
  },
  {
   "cell_type": "code",
   "execution_count": 25,
   "id": "dfa14ec1",
   "metadata": {},
   "outputs": [
    {
     "name": "stdout",
     "output_type": "stream",
     "text": [
      "จำนวนคำทั้งหมดในข้อความ : 12\n",
      "จำนวนครั้งที่คำปรากฎในข้อความ : 3\n",
      "ตำแหน่งในข้อความแรกที่พบ : 0\n",
      "จำนวนตัวพิมพ์ใหญ่ในข้อความคือ: 3\n"
     ]
    }
   ],
   "source": [
    "input1 = input(\"ใส่ข้อความ :\")\n",
    "print(\"จำนวนคำทั้งหมดในข้อความ :\",len(input1))\n",
    "input2 = input(\"คำค้นหา :\")\n",
    "inp2c = input1.count(input2)\n",
    "print(\"จำนวนครั้งที่คำปรากฎในข้อความ :\",inp2c)\n",
    "inpps = input1.find(input2)\n",
    "print(\"ตำแหน่งในข้อความแรกที่พบ :\", inpps)\n",
    "count = sum(1 for char in input1 if char.isupper())\n",
    "print(f\"จำนวนตัวพิมพ์ใหญ่ในข้อความคือ: {count}\")"
   ]
  }
 ],
 "metadata": {
  "kernelspec": {
   "display_name": "base",
   "language": "python",
   "name": "python3"
  },
  "language_info": {
   "codemirror_mode": {
    "name": "ipython",
    "version": 3
   },
   "file_extension": ".py",
   "mimetype": "text/x-python",
   "name": "python",
   "nbconvert_exporter": "python",
   "pygments_lexer": "ipython3",
   "version": "3.11.4"
  }
 },
 "nbformat": 4,
 "nbformat_minor": 5
}
